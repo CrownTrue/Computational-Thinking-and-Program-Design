{
  "nbformat": 4,
  "nbformat_minor": 0,
  "metadata": {
    "colab": {
      "name": "week8_A107260017_黃冠蓁.ipynb",
      "provenance": []
    },
    "kernelspec": {
      "name": "python3",
      "display_name": "Python 3"
    }
  },
  "cells": [
    {
      "cell_type": "code",
      "metadata": {
        "id": "R5nN3HpNBUxy",
        "colab_type": "code",
        "colab": {
          "base_uri": "https://localhost:8080/",
          "height": 87
        },
        "outputId": "e5bc2bc4-6189-408d-a55e-cedfc4f8ff02"
      },
      "source": [
        "height=float(input(\"身高(公尺):\"))\n",
        "weight=float(input(\"體重(公斤):\"))\n",
        "bmi=weight/height**2\n",
        "bmi_lable=None \n",
        "if bmi>30:\n",
        "  bmi_label=\"obese\"\n",
        "elif bmi>25:\n",
        "  bmi_label=\"overweight\"\n",
        "elif bmi>18.5:\n",
        "  bmi_label=\"normal weight\"\n",
        "else:\n",
        "  bmi_label=\"underweight\"   #可以條件寫的簡便些\n",
        "print(bmi)\n",
        "print(bmi_label)"
      ],
      "execution_count": 2,
      "outputs": [
        {
          "output_type": "stream",
          "text": [
            "身高(公尺):1.7\n",
            "體重(公斤):52\n",
            "17.99307958477509\n",
            "underweight\n"
          ],
          "name": "stdout"
        }
      ]
    },
    {
      "cell_type": "code",
      "metadata": {
        "id": "ZT1wnen8B9fh",
        "colab_type": "code",
        "colab": {
          "base_uri": "https://localhost:8080/",
          "height": 52
        },
        "outputId": "c638229b-27c2-4507-b422-1a613570cb37"
      },
      "source": [
        "x=int(input(\"正整數:\"))\n",
        "if x%15==0:\n",
        "  print(\"Fizz Buzz\")\n",
        "elif x%5==0:\n",
        "  print(\"Buzz\")\n",
        "elif x%3==0:\n",
        "  print(\"Fizz\")\n",
        "else:\n",
        "  print(\"user int\")"
      ],
      "execution_count": 3,
      "outputs": [
        {
          "output_type": "stream",
          "text": [
            "正整數:15\n",
            "Fizz Buzz\n"
          ],
          "name": "stdout"
        }
      ]
    }
  ]
}