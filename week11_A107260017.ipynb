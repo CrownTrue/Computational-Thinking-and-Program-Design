{
  "nbformat": 4,
  "nbformat_minor": 0,
  "metadata": {
    "colab": {
      "name": "week11_A107260017.ipynb",
      "provenance": [],
      "collapsed_sections": []
    },
    "kernelspec": {
      "name": "python3",
      "display_name": "Python 3"
    }
  },
  "cells": [
    {
      "cell_type": "code",
      "metadata": {
        "id": "8CrYcv481940",
        "colab_type": "code",
        "colab": {
          "base_uri": "https://localhost:8080/",
          "height": 52
        },
        "outputId": "f466589b-67f9-4329-842c-a022cb770128"
      },
      "source": [
        "living_area=input(\"居住縣市:\")\n",
        "living_cost=None\n",
        "if living_area==\"台北市\":\n",
        "  living_cost=17005\n",
        "  print(\"{}的每人每月最低生活費{}\".format(living_area,living_cost))\n",
        "elif living_area==\"新北市\":\n",
        "  living_cost=15500\n",
        "  print(\"{}的每人每月最低生活費{}\".format(living_area,living_cost))\n",
        "elif living_area==\"桃園市\":\n",
        "  living_cost=15281\n",
        "  print(\"{}的每人每月最低生活費{}\".format(living_area,living_cost))\n",
        "elif living_area==\"台中市\":\n",
        "  living_cost=14596\n",
        "  print(\"{}的每人每月最低生活費{}\".format(living_area,living_cost))\n",
        "elif living_area==\"台南市\":\n",
        "  living_cost=12388\n",
        "  print(\"{}的每人每月最低生活費{}\".format(living_area,living_cost))\n",
        "elif living_area==\"高雄市\":\n",
        "  living_cost=13099\n",
        "  print(\"{}的每人每月最低生活費{}\".format(living_area,living_cost))\n",
        "elif living_area==\"非六都縣市\":\n",
        "  living_cost=12388\n",
        "  print(\"{}的每人每月最低生活費{}\".format(living_area,living_cost))\n",
        "elif living_area==\"金門連江\":\n",
        "  living_cost=11648\n",
        "  print(\"{}的每人每月最低生活費{}\".format(living_area,living_cost))\n",
        "else:\n",
        "  print(\"input again\")"
      ],
      "execution_count": 2,
      "outputs": [
        {
          "output_type": "stream",
          "text": [
            "居住縣市:台北市\n",
            "台北市的每人每月最低生活費17005\n"
          ],
          "name": "stdout"
        }
      ]
    },
    {
      "cell_type": "code",
      "metadata": {
        "id": "TlN-cZYvAMHt",
        "colab_type": "code",
        "colab": {
          "base_uri": "https://localhost:8080/",
          "height": 52
        },
        "outputId": "ec22ea32-43e6-4b76-fbc5-055eb2148451"
      },
      "source": [
        "cost={\n",
        "    \"台北市\":17005,\n",
        "    \"新北市\":15500,\n",
        "    \"桃園市\":15281,\n",
        "    \"台中市\":14596,\n",
        "    \"台南市\":12388,\n",
        "    \"高雄市\":13099,\n",
        "    \"非六都縣市\":12388,\n",
        "    \"金門連江\":11648\n",
        "}\n",
        "living_area=input(\"居住縣市:\")\n",
        "living_cost=cost[living_area]\n",
        "print(\"{}的每人每月最低生活費{:,}\".format(living_area,living_cost))"
      ],
      "execution_count": 4,
      "outputs": [
        {
          "output_type": "stream",
          "text": [
            "居住縣市:台北市\n",
            "台北市的每人每月最低生活費17,005\n"
          ],
          "name": "stdout"
        }
      ]
    }
  ]
}