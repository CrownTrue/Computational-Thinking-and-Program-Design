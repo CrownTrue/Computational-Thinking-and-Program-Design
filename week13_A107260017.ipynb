{
  "nbformat": 4,
  "nbformat_minor": 0,
  "metadata": {
    "colab": {
      "name": "week13_A107260017.ipynb",
      "provenance": [],
      "collapsed_sections": []
    },
    "kernelspec": {
      "name": "python3",
      "display_name": "Python 3"
    }
  },
  "cells": [
    {
      "cell_type": "code",
      "metadata": {
        "id": "v-uKYOdCoie6",
        "colab_type": "code",
        "colab": {
          "base_uri": "https://localhost:8080/",
          "height": 34
        },
        "outputId": "a709119e-175b-49f0-f3e5-f849d9cfbb62"
      },
      "source": [
        "#練習\n",
        "#計算字串英文字母的母音（a, e, i, o, u）個數\n",
        "n_vowels=0\n",
        "for i in 'azcbobobegghakl':\n",
        "  if i in ['a','e','i','o','u']:\n",
        "    #print(i)\n",
        "    n_vowels+=1\n",
        "print(n_vowels)"
      ],
      "execution_count": 1,
      "outputs": [
        {
          "output_type": "stream",
          "text": [
            "5\n"
          ],
          "name": "stdout"
        }
      ]
    },
    {
      "cell_type": "code",
      "metadata": {
        "id": "oJYWQoLEoaJr",
        "colab_type": "code",
        "colab": {
          "base_uri": "https://localhost:8080/",
          "height": 34
        },
        "outputId": "e709b3b9-5250-44d1-dd52-4c277aa465cb"
      },
      "source": [
        "#延伸練習\n",
        "#計算字串裡面 'bob' 出現的次數\n",
        "n_word=0\n",
        "for i in 'azcbobobegghakl':\n",
        "  if i in ['bob']:\n",
        "    #print(i)\n",
        "    n_word+=1\n",
        "print(n_word)"
      ],
      "execution_count": 2,
      "outputs": [
        {
          "output_type": "stream",
          "text": [
            "0\n"
          ],
          "name": "stdout"
        }
      ]
    },
    {
      "cell_type": "code",
      "metadata": {
        "id": "umOVrk9fo4-s",
        "colab_type": "code",
        "colab": {}
      },
      "source": [
        "#隨堂練習\n",
        "#1.寫作一個函數 get_fahrenheit() 將攝氏氣溫轉換為華氏氣溫\n",
        "def get_fahrenheit(x):\n",
        "  \"\"\"\n",
        "  將攝氏氣溫轉換為華氏氣溫\n",
        "  \"\"\"\n",
        "  fah=x*9/5+32\n",
        "  return fah"
      ],
      "execution_count": 0,
      "outputs": []
    },
    {
      "cell_type": "code",
      "metadata": {
        "id": "u90LTxkVqJYM",
        "colab_type": "code",
        "colab": {
          "base_uri": "https://localhost:8080/",
          "height": 34
        },
        "outputId": "87ea0243-4461-4b67-c983-610f0322ebca"
      },
      "source": [
        "get_fahrenheit(23)"
      ],
      "execution_count": 6,
      "outputs": [
        {
          "output_type": "execute_result",
          "data": {
            "text/plain": [
              "73.4"
            ]
          },
          "metadata": {
            "tags": []
          },
          "execution_count": 6
        }
      ]
    },
    {
      "cell_type": "code",
      "metadata": {
        "id": "uSBBk-oVpBCK",
        "colab_type": "code",
        "colab": {}
      },
      "source": [
        "#2.寫作一個函數 get_bmi() 計算 BMI 身體質量指數\n",
        "def get_bmi(height,weight):\n",
        "    \"\"\"\n",
        "    計算 BMI 身體質量指數(體重/身高**2)\n",
        "    \"\"\"\n",
        "    height = height / 100\n",
        "    bmi = weight / height**2\n",
        "    return bmi"
      ],
      "execution_count": 0,
      "outputs": []
    },
    {
      "cell_type": "code",
      "metadata": {
        "id": "BvLrzvb_qaTs",
        "colab_type": "code",
        "colab": {
          "base_uri": "https://localhost:8080/",
          "height": 34
        },
        "outputId": "c7473905-8ec8-4329-cd16-665ce147e36e"
      },
      "source": [
        "get_bmi(167,45)"
      ],
      "execution_count": 8,
      "outputs": [
        {
          "output_type": "execute_result",
          "data": {
            "text/plain": [
              "16.1353938828929"
            ]
          },
          "metadata": {
            "tags": []
          },
          "execution_count": 8
        }
      ]
    },
    {
      "cell_type": "code",
      "metadata": {
        "id": "P1QjE-b6pUAS",
        "colab_type": "code",
        "colab": {}
      },
      "source": [
        "#3.寫作一個函數 is_prime() 判斷輸入是否為質數\n",
        "def is_prime(x):\n",
        "  \"\"\"\n",
        "  returns true if x is a prime, or returns false\n",
        "  \"\"\"\n",
        "  divisors=[]\n",
        "  for i in range(1,x+1):\n",
        "    if x%i==0:\n",
        "      divisors.append(i)\n",
        "      n_divisors=len(divisors)\n",
        "    return n_divisors==2"
      ],
      "execution_count": 0,
      "outputs": []
    },
    {
      "cell_type": "code",
      "metadata": {
        "id": "gWo8SqGvqQr6",
        "colab_type": "code",
        "colab": {
          "base_uri": "https://localhost:8080/",
          "height": 34
        },
        "outputId": "30fdfb91-594e-48c2-bf2f-295f6fbc3773"
      },
      "source": [
        "is_prime(5)"
      ],
      "execution_count": 11,
      "outputs": [
        {
          "output_type": "execute_result",
          "data": {
            "text/plain": [
              "False"
            ]
          },
          "metadata": {
            "tags": []
          },
          "execution_count": 11
        }
      ]
    }
  ]
}