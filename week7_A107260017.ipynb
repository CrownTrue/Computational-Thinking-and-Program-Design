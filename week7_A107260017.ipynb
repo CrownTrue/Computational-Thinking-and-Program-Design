{
  "nbformat": 4,
  "nbformat_minor": 0,
  "metadata": {
    "colab": {
      "name": "week7_A107260017.ipynb",
      "provenance": []
    },
    "kernelspec": {
      "name": "python3",
      "display_name": "Python 3"
    }
  },
  "cells": [
    {
      "cell_type": "code",
      "metadata": {
        "id": "idChPZNJQY3k",
        "colab_type": "code",
        "colab": {
          "base_uri": "https://localhost:8080/",
          "height": 70
        },
        "outputId": "085b143e-8bd8-45ba-e9fb-c87ae167842e"
      },
      "source": [
        "#隨堂練習：月薪超過 4 萬或存款超過 50 萬就發信用卡\n",
        "income=int(input(\"月薪：\"))\n",
        "saving=int(input(\"存款：\"))\n",
        "if income>40000 or saving>500000 :\n",
        "  print(\"發信用卡!\")\n",
        "else:\n",
        "  print(\"不發\")"
      ],
      "execution_count": 1,
      "outputs": [
        {
          "output_type": "stream",
          "text": [
            "月薪：25000\n",
            "存款：3680\n",
            "不發\n"
          ],
          "name": "stdout"
        }
      ]
    },
    {
      "cell_type": "code",
      "metadata": {
        "id": "SqqmIqOzRFAv",
        "colab_type": "code",
        "colab": {
          "base_uri": "https://localhost:8080/",
          "height": 105
        },
        "outputId": "7c37737a-7761-4763-bbc5-3389fbb1cb97"
      },
      "source": [
        "monthly_income = input(\"請輸入月薪：\")\n",
        "saving_account = input(\"請輸入存款：\")\n",
        "monthly_income = int(monthly_income)\n",
        "saving_account = int(saving_account)\n",
        "print(type(monthly_income))\n",
        "print(type(saving_account))\n",
        "ans = \"\"\n",
        "# 條件判斷(begin)\n",
        "if monthly_income > 40000 or saving_account > 500000:\n",
        "    ans = \"發信用卡\"\n",
        "# 條件判斷(end)\n",
        "print(ans)"
      ],
      "execution_count": 2,
      "outputs": [
        {
          "output_type": "stream",
          "text": [
            "請輸入月薪：50000\n",
            "請輸入存款：17783\n",
            "<class 'int'>\n",
            "<class 'int'>\n",
            "發信用卡\n"
          ],
          "name": "stdout"
        }
      ]
    },
    {
      "cell_type": "code",
      "metadata": {
        "id": "uKulyPTWRejj",
        "colab_type": "code",
        "colab": {
          "base_uri": "https://localhost:8080/",
          "height": 52
        },
        "outputId": "8b97486a-d49f-4eb9-aea9-28916bde6b85"
      },
      "source": [
        "#隨堂練習：判斷奇數偶數\n",
        "x=int(input(\"正整數：\"))\n",
        "if x%2==1:\n",
        "  print(x,\"為奇數\")\n",
        "else:\n",
        "  print(x,\"為偶數\")"
      ],
      "execution_count": 3,
      "outputs": [
        {
          "output_type": "stream",
          "text": [
            "正整數：4\n",
            "4 為偶數\n"
          ],
          "name": "stdout"
        }
      ]
    },
    {
      "cell_type": "code",
      "metadata": {
        "id": "M2K0oq0eRlXS",
        "colab_type": "code",
        "colab": {
          "base_uri": "https://localhost:8080/",
          "height": 52
        },
        "outputId": "01ae8d27-2a97-4aab-b0f3-8b0077101361"
      },
      "source": [
        "user_int = input(\"請輸入一個正整數：\")\n",
        "user_int = int(user_int)\n",
        "if user_int % 2 == 0:\n",
        "    ans = \"偶數\"\n",
        "else:\n",
        "    ans = \"奇數\"\n",
        "print(ans)"
      ],
      "execution_count": 4,
      "outputs": [
        {
          "output_type": "stream",
          "text": [
            "請輸入一個正整數：87\n",
            "奇數\n"
          ],
          "name": "stdout"
        }
      ]
    },
    {
      "cell_type": "code",
      "metadata": {
        "id": "jLG1HuXQRqKb",
        "colab_type": "code",
        "colab": {
          "base_uri": "https://localhost:8080/",
          "height": 52
        },
        "outputId": "b5e8e6dc-cabf-4221-e478-c7770aaeeb02"
      },
      "source": [
        "#隨堂練習：依身分證字號尾數決定星期幾可以購買口罩\n",
        "id=int(input(\"身分證尾數:\"))\n",
        "if id%2==1:\n",
        "  print(\"星期一、三、五領\")\n",
        "else:\n",
        "  print(\"星期二、四、六領\")"
      ],
      "execution_count": 5,
      "outputs": [
        {
          "output_type": "stream",
          "text": [
            "身分證尾數:3\n",
            "星期一、三、五領\n"
          ],
          "name": "stdout"
        }
      ]
    },
    {
      "cell_type": "code",
      "metadata": {
        "id": "JcODJpV2R0qM",
        "colab_type": "code",
        "colab": {
          "base_uri": "https://localhost:8080/",
          "height": 70
        },
        "outputId": "4e54cf88-77f1-4eec-8207-41f939fc1084"
      },
      "source": [
        "#隨堂練習：判斷 BMI 的類別標籤\n",
        "high=float(input(\"身高：\"))   #用個幅點數 因為會有小數\n",
        "weight=float(input(\"體重：\"))\n",
        "BMI=weight/(high/100)**2\n",
        "if BMI<18.5:\n",
        "  print(\"Underweight\")\n",
        "elif BMI<25:                 # elif\n",
        "  print(\"Normal weight\")\n",
        "elif BMI<30:\n",
        "  print(\"Overweight\")\n",
        "else:                        # else\n",
        "  print(\"Obese\")"
      ],
      "execution_count": 6,
      "outputs": [
        {
          "output_type": "stream",
          "text": [
            "身高：198\n",
            "體重：129\n",
            "Obese\n"
          ],
          "name": "stdout"
        }
      ]
    }
  ]
}