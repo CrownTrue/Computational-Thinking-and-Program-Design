{
 "cells": [
  {
   "cell_type": "code",
   "execution_count": 1,
   "metadata": {},
   "outputs": [
    {
     "name": "stdout",
     "output_type": "stream",
     "text": [
      "82.4\n"
     ]
    }
   ],
   "source": [
    "current_tempc = 28\n",
    "current_tempcf = current_tempc * 9/5 + 32\n",
    "print(current_tempcf)"
   ]
  },
  {
   "cell_type": "code",
   "execution_count": 2,
   "metadata": {},
   "outputs": [
    {
     "name": "stdout",
     "output_type": "stream",
     "text": [
      "28.000000000000004\n"
     ]
    }
   ],
   "source": [
    "current_tempcf = 82.4\n",
    "current_tempc = (current_tempcf - 32) * 5/9\n",
    "print(current_tempc)"
   ]
  },
  {
   "cell_type": "code",
   "execution_count": 3,
   "metadata": {},
   "outputs": [
    {
     "name": "stdout",
     "output_type": "stream",
     "text": [
      "31.507201646090532\n"
     ]
    }
   ],
   "source": [
    "shap_hight=216\n",
    "shap_weight=147\n",
    "BMI=shap_weight/((shap_hight/100)**2)\n",
    "print(BMI)"
   ]
  },
  {
   "cell_type": "code",
   "execution_count": 4,
   "metadata": {},
   "outputs": [
    {
     "name": "stdout",
     "output_type": "stream",
     "text": [
      "Let's put aside the fact that you \"accidentally\" pick up my grandmother's ring.\n"
     ]
    }
   ],
   "source": [
    "ross_said=\"\"\"Let's put aside the fact that you \"accidentally\" pick up my grandmother's ring.\"\"\"\n",
    "print(ross_said)"
   ]
  },
  {
   "cell_type": "code",
   "execution_count": 6,
   "metadata": {},
   "outputs": [
    {
     "name": "stdout",
     "output_type": "stream",
     "text": [
      "輸入城市:台北\n",
      "輸入天氣:晴\n",
      "我在 台北 天氣 晴\n"
     ]
    }
   ],
   "source": [
    "city=input('輸入城市:') \n",
    "weather=input(\"輸入天氣:\")\n",
    "print(\"我在\",city,\"天氣\",weather)"
   ]
  },
  {
   "cell_type": "code",
   "execution_count": 5,
   "metadata": {},
   "outputs": [
    {
     "name": "stdout",
     "output_type": "stream",
     "text": [
      "身高:216\n",
      "體重:147\n",
      "沒有過重\n"
     ]
    }
   ],
   "source": [
    "high=input(\"身高:\")\n",
    "weigh=input(\"體重:\")\n",
    "high=int(high)\n",
    "weigh=int(weigh)\n",
    "BMI=weigh/(high**2)\n",
    "if BMI>24:\n",
    "    print(\"過重\")\n",
    "else:\n",
    "    print(\"沒有過重\")"
   ]
  },
  {
   "cell_type": "code",
   "execution_count": null,
   "metadata": {},
   "outputs": [],
   "source": []
  }
 ],
 "metadata": {
  "kernelspec": {
   "display_name": "Python 3",
   "language": "python",
   "name": "python3"
  },
  "language_info": {
   "codemirror_mode": {
    "name": "ipython",
    "version": 3
   },
   "file_extension": ".py",
   "mimetype": "text/x-python",
   "name": "python",
   "nbconvert_exporter": "python",
   "pygments_lexer": "ipython3",
   "version": "3.7.6"
  }
 },
 "nbformat": 4,
 "nbformat_minor": 4
}
