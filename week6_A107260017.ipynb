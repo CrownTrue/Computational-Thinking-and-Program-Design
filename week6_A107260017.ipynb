{
 "cells": [
  {
   "cell_type": "code",
   "execution_count": 2,
   "metadata": {},
   "outputs": [
    {
     "name": "stdout",
     "output_type": "stream",
     "text": [
      "城市: 台北\n",
      "天氣如何晴\n",
      "我在台北,天氣晴\n"
     ]
    }
   ],
   "source": [
    "#format 物件放進字串裡\n",
    "city=input(\"城市: \")\n",
    "weather=input(\"天氣如何\") #這個不是值，所以錯\n",
    "print(\"我在{},天氣{}\".format(city,weather))"
   ]
  },
  {
   "cell_type": "code",
   "execution_count": 3,
   "metadata": {},
   "outputs": [
    {
     "name": "stdout",
     "output_type": "stream",
     "text": [
      "城市: 台北\n",
      "天氣如何晴\n",
      "攝氏氣溫23\n",
      "我在台北,天氣晴,攝氏23度,華氏73.4度\n"
     ]
    }
   ],
   "source": [
    "city=input(\"城市: \")\n",
    "weather=input(\"天氣如何\")\n",
    "tempc=input(\"攝氏氣溫\")\n",
    "tempc=int(tempc)  #名字不變 但從字串變成數值\n",
    "tempf=tempc*9/5+32\n",
    "print(\"我在{},天氣{},攝氏{}度,華氏{}度\".format(city,weather,tempc,tempf))"
   ]
  },
  {
   "cell_type": "code",
   "execution_count": 4,
   "metadata": {},
   "outputs": [
    {
     "name": "stdout",
     "output_type": "stream",
     "text": [
      "身分證尾數：3\n",
      "True\n"
     ]
    }
   ],
   "source": [
    "#隨堂練習：判斷身分證字號的尾數是否為奇數\n",
    "id=(int(input(\"身分證尾數：\")))\n",
    "print(id%2!=0)"
   ]
  },
  {
   "cell_type": "code",
   "execution_count": 5,
   "metadata": {},
   "outputs": [
    {
     "name": "stdout",
     "output_type": "stream",
     "text": [
      "尾數3\n",
      "3\n",
      "<class 'int'>\n",
      "True\n"
     ]
    }
   ],
   "source": [
    "id=input(\"尾數\")\n",
    "id=int(id)\n",
    "print(id)\n",
    "print(type(id))\n",
    "modulo=id%2\n",
    "ans=modulo==1\n",
    "print(ans)"
   ]
  },
  {
   "cell_type": "code",
   "execution_count": null,
   "metadata": {},
   "outputs": [],
   "source": []
  }
 ],
 "metadata": {
  "kernelspec": {
   "display_name": "Python 3",
   "language": "python",
   "name": "python3"
  },
  "language_info": {
   "codemirror_mode": {
    "name": "ipython",
    "version": 3
   },
   "file_extension": ".py",
   "mimetype": "text/x-python",
   "name": "python",
   "nbconvert_exporter": "python",
   "pygments_lexer": "ipython3",
   "version": "3.7.6"
  }
 },
 "nbformat": 4,
 "nbformat_minor": 4
}
