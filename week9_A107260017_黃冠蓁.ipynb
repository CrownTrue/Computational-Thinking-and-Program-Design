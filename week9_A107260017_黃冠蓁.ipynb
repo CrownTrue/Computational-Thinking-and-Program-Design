{
  "nbformat": 4,
  "nbformat_minor": 0,
  "metadata": {
    "colab": {
      "name": "week9_A107260017_黃冠蓁.ipynb",
      "provenance": [],
      "collapsed_sections": []
    },
    "kernelspec": {
      "name": "python3",
      "display_name": "Python 3"
    }
  },
  "cells": [
    {
      "cell_type": "code",
      "metadata": {
        "id": "FaET0-XlCe6k",
        "colab_type": "code",
        "colab": {
          "base_uri": "https://localhost:8080/",
          "height": 105
        },
        "outputId": "d938e824-d463-4d61-ea6e-65fe00799303"
      },
      "source": [
        "#隨堂練習：印出介於 x 到 y 之間的奇數（包含 x 與 y 假如它們是奇數）\n",
        "x=int(input(\"起始整數：\"))\n",
        "y=int(input(\"終止整數：\"))\n",
        "i=x           #start\n",
        "while i<=y:   #stop\n",
        "  if i%2==1:\n",
        "    print(i)\n",
        "  i+=1        #step"
      ],
      "execution_count": 1,
      "outputs": [
        {
          "output_type": "stream",
          "text": [
            "起始整數：5\n",
            "終止整數：10\n",
            "5\n",
            "7\n",
            "9\n"
          ],
          "name": "stdout"
        }
      ]
    },
    {
      "cell_type": "code",
      "metadata": {
        "id": "Qxeje9H9C1S4",
        "colab_type": "code",
        "colab": {
          "base_uri": "https://localhost:8080/",
          "height": 140
        },
        "outputId": "ebd33ea5-56c7-492a-a2a7-4e2b50a9bed1"
      },
      "source": [
        "#隨堂練習：承接上題，介於 x 到 y 之間的奇數有幾個（包含 x 與 y 假如它們是奇數）\n",
        "x=int(input(\"起始整數：\"))\n",
        "y=int(input(\"終止整數：\"))\n",
        "odd_counter=0 #計數器，一開始要歸零 \n",
        "i=x           #start\n",
        "while i<=y:   #stop\n",
        "  if i%2==1:\n",
        "    print(i)\n",
        "    odd_counter+=1 #計數累計\n",
        "  i+=1        #step\n",
        "print(\"==============\")\n",
        "print(odd_counter,\"個奇數\")"
      ],
      "execution_count": 2,
      "outputs": [
        {
          "output_type": "stream",
          "text": [
            "起始整數：5\n",
            "終止整數：10\n",
            "5\n",
            "7\n",
            "9\n",
            "==============\n",
            "3 個奇數\n"
          ],
          "name": "stdout"
        }
      ]
    },
    {
      "cell_type": "code",
      "metadata": {
        "id": "SuQtuBFnC4fs",
        "colab_type": "code",
        "colab": {
          "base_uri": "https://localhost:8080/",
          "height": 140
        },
        "outputId": "a1888ec5-3a8d-4708-df4d-f8a82529f766"
      },
      "source": [
        "#隨堂練習：承接上題，介於 x 到 y 之間的奇數加總為何（包含 x 與 y 假如它們是奇數）\n",
        "x=int(input(\"起始整數：\"))\n",
        "y=int(input(\"終止整數：\"))\n",
        "odd_summation=0 #累計，一開始要歸零 \n",
        "i=x           #start\n",
        "while i<=y:   #stop\n",
        "  if i%2==1:\n",
        "    print(i)\n",
        "    odd_summation+=i #奇數累加\n",
        "  i+=1        #step\n",
        "print(\"===================\")\n",
        "print(\"奇數加總\",odd_summation)"
      ],
      "execution_count": 3,
      "outputs": [
        {
          "output_type": "stream",
          "text": [
            "起始整數：5\n",
            "終止整數：10\n",
            "5\n",
            "7\n",
            "9\n",
            "===================\n",
            "奇數加總 21\n"
          ],
          "name": "stdout"
        }
      ]
    },
    {
      "cell_type": "code",
      "metadata": {
        "id": "j3UEI2n_DBm0",
        "colab_type": "code",
        "colab": {
          "base_uri": "https://localhost:8080/",
          "height": 210
        },
        "outputId": "178e8e95-9897-48be-cf43-fa3050968ad9"
      },
      "source": [
        "#隨堂練習：承接上題，介於 x 到 y 之間的奇數有幾個，奇數加總為何（包含 x 與 y 假如它們是奇數）\n",
        "x=int(input(\"起始整數：\"))\n",
        "y=int(input(\"終止整數：\"))\n",
        "odd_counter=0   #計數器，一開始要歸零 \n",
        "odd_summation=0 #累計，一開始要歸零 \n",
        "i=x           #start\n",
        "while i<=y:   #stop\n",
        "  if i%2==1:\n",
        "    odd_counter+=1 #計數累計\n",
        "    odd_summation+=i #奇數累加\n",
        "    print(\"現在的整數是:{},奇數計數為{}個,總合為{}\".format(i,odd_counter,odd_summation))\n",
        "  else:\n",
        "    print(\"現在的整數是:{},奇數計數為{}個,總合為{}\".format(i,odd_counter,odd_summation))\n",
        "  i+=1        #step\n",
        "print(\"===================\")\n",
        "print(odd_counter,\"個奇數\")\n",
        "print(\"奇數加總\",odd_summation)"
      ],
      "execution_count": 4,
      "outputs": [
        {
          "output_type": "stream",
          "text": [
            "起始整數：5\n",
            "終止整數：10\n",
            "現在的整數是:5,奇數計數為1個,總合為5\n",
            "現在的整數是:6,奇數計數為1個,總合為5\n",
            "現在的整數是:7,奇數計數為2個,總合為12\n",
            "現在的整數是:8,奇數計數為2個,總合為12\n",
            "現在的整數是:9,奇數計數為3個,總合為21\n",
            "現在的整數是:10,奇數計數為3個,總合為21\n",
            "===================\n",
            "3 個奇數\n",
            "奇數加總 21\n"
          ],
          "name": "stdout"
        }
      ]
    },
    {
      "cell_type": "code",
      "metadata": {
        "id": "bNh_tyfrDPWd",
        "colab_type": "code",
        "colab": {
          "base_uri": "https://localhost:8080/",
          "height": 1000
        },
        "outputId": "e17f62f4-723b-43bd-83ce-1dfe462af5af"
      },
      "source": [
        "#作業：Fizz-Buzz with while\n",
        "x=100\n",
        "i=1\n",
        "while i<=x:\n",
        "  if i%3==0 and i%5==0:\n",
        "    print(\"fizz-buzz\")\n",
        "  elif i%3==0:\n",
        "    print(\"fizz\")\n",
        "  elif i%5==0:\n",
        "    print(\"buzz\")\n",
        "  else:\n",
        "    print(i)\n",
        "  i+=1"
      ],
      "execution_count": 5,
      "outputs": [
        {
          "output_type": "stream",
          "text": [
            "1\n",
            "2\n",
            "fizz\n",
            "4\n",
            "buzz\n",
            "fizz\n",
            "7\n",
            "8\n",
            "fizz\n",
            "buzz\n",
            "11\n",
            "fizz\n",
            "13\n",
            "14\n",
            "fizz-buzz\n",
            "16\n",
            "17\n",
            "fizz\n",
            "19\n",
            "buzz\n",
            "fizz\n",
            "22\n",
            "23\n",
            "fizz\n",
            "buzz\n",
            "26\n",
            "fizz\n",
            "28\n",
            "29\n",
            "fizz-buzz\n",
            "31\n",
            "32\n",
            "fizz\n",
            "34\n",
            "buzz\n",
            "fizz\n",
            "37\n",
            "38\n",
            "fizz\n",
            "buzz\n",
            "41\n",
            "fizz\n",
            "43\n",
            "44\n",
            "fizz-buzz\n",
            "46\n",
            "47\n",
            "fizz\n",
            "49\n",
            "buzz\n",
            "fizz\n",
            "52\n",
            "53\n",
            "fizz\n",
            "buzz\n",
            "56\n",
            "fizz\n",
            "58\n",
            "59\n",
            "fizz-buzz\n",
            "61\n",
            "62\n",
            "fizz\n",
            "64\n",
            "buzz\n",
            "fizz\n",
            "67\n",
            "68\n",
            "fizz\n",
            "buzz\n",
            "71\n",
            "fizz\n",
            "73\n",
            "74\n",
            "fizz-buzz\n",
            "76\n",
            "77\n",
            "fizz\n",
            "79\n",
            "buzz\n",
            "fizz\n",
            "82\n",
            "83\n",
            "fizz\n",
            "buzz\n",
            "86\n",
            "fizz\n",
            "88\n",
            "89\n",
            "fizz-buzz\n",
            "91\n",
            "92\n",
            "fizz\n",
            "94\n",
            "buzz\n",
            "fizz\n",
            "97\n",
            "98\n",
            "fizz\n",
            "buzz\n"
          ],
          "name": "stdout"
        }
      ]
    },
    {
      "cell_type": "code",
      "metadata": {
        "id": "DNPRdteADUil",
        "colab_type": "code",
        "colab": {
          "base_uri": "https://localhost:8080/",
          "height": 1000
        },
        "outputId": "e5a89433-f27f-46af-d3aa-b5bf4adb28a7"
      },
      "source": [
        "i = 1 # start\n",
        "while i <= 100: # stop\n",
        "    if i % 15 == 0:\n",
        "        print(\"Fizz Buzz\")\n",
        "    elif i % 3 == 0:\n",
        "        print(\"Fizz\")\n",
        "    elif i % 5 == 0:\n",
        "        print(\"Buzz\")\n",
        "    else:\n",
        "        print(i)\n",
        "    i += 1 # step"
      ],
      "execution_count": 6,
      "outputs": [
        {
          "output_type": "stream",
          "text": [
            "1\n",
            "2\n",
            "Fizz\n",
            "4\n",
            "Buzz\n",
            "Fizz\n",
            "7\n",
            "8\n",
            "Fizz\n",
            "Buzz\n",
            "11\n",
            "Fizz\n",
            "13\n",
            "14\n",
            "Fizz Buzz\n",
            "16\n",
            "17\n",
            "Fizz\n",
            "19\n",
            "Buzz\n",
            "Fizz\n",
            "22\n",
            "23\n",
            "Fizz\n",
            "Buzz\n",
            "26\n",
            "Fizz\n",
            "28\n",
            "29\n",
            "Fizz Buzz\n",
            "31\n",
            "32\n",
            "Fizz\n",
            "34\n",
            "Buzz\n",
            "Fizz\n",
            "37\n",
            "38\n",
            "Fizz\n",
            "Buzz\n",
            "41\n",
            "Fizz\n",
            "43\n",
            "44\n",
            "Fizz Buzz\n",
            "46\n",
            "47\n",
            "Fizz\n",
            "49\n",
            "Buzz\n",
            "Fizz\n",
            "52\n",
            "53\n",
            "Fizz\n",
            "Buzz\n",
            "56\n",
            "Fizz\n",
            "58\n",
            "59\n",
            "Fizz Buzz\n",
            "61\n",
            "62\n",
            "Fizz\n",
            "64\n",
            "Buzz\n",
            "Fizz\n",
            "67\n",
            "68\n",
            "Fizz\n",
            "Buzz\n",
            "71\n",
            "Fizz\n",
            "73\n",
            "74\n",
            "Fizz Buzz\n",
            "76\n",
            "77\n",
            "Fizz\n",
            "79\n",
            "Buzz\n",
            "Fizz\n",
            "82\n",
            "83\n",
            "Fizz\n",
            "Buzz\n",
            "86\n",
            "Fizz\n",
            "88\n",
            "89\n",
            "Fizz Buzz\n",
            "91\n",
            "92\n",
            "Fizz\n",
            "94\n",
            "Buzz\n",
            "Fizz\n",
            "97\n",
            "98\n",
            "Fizz\n",
            "Buzz\n"
          ],
          "name": "stdout"
        }
      ]
    }
  ]
}