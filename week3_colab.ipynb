{
  "nbformat": 4,
  "nbformat_minor": 0,
  "metadata": {
    "colab": {
      "name": "week3 colab.ipynb",
      "provenance": [],
      "authorship_tag": "ABX9TyNOu5Vx5A/a9u3keKYUrjNG",
      "include_colab_link": true
    },
    "kernelspec": {
      "name": "python3",
      "display_name": "Python 3"
    }
  },
  "cells": [
    {
      "cell_type": "markdown",
      "metadata": {
        "id": "view-in-github",
        "colab_type": "text"
      },
      "source": [
        "<a href=\"https://colab.research.google.com/github/CrownTrue/Introduction-to-data-science/blob/master/week3_colab.ipynb\" target=\"_parent\"><img src=\"https://colab.research.google.com/assets/colab-badge.svg\" alt=\"Open In Colab\"/></a>"
      ]
    },
    {
      "cell_type": "code",
      "metadata": {
        "id": "zWVuoaOYHoHp",
        "colab_type": "code",
        "colab": {}
      },
      "source": [
        "#儲存成物件 字串要加\"\"\n",
        "movie_title=\"Avengers:Endgame\"\n",
        "movie_rating=8.4\n",
        "movie_time=181"
      ],
      "execution_count": 0,
      "outputs": []
    },
    {
      "cell_type": "code",
      "metadata": {
        "id": "or_tmtpRIFam",
        "colab_type": "code",
        "colab": {
          "base_uri": "https://localhost:8080/",
          "height": 69
        },
        "outputId": "7bd6a20b-bc82-4629-b263-5cc30d82a0f3"
      },
      "source": [
        "#使用 type() 函數將這三個物件的類別印出來\n",
        "print(type(movie_title))\n",
        "print(type(movie_rating))\n",
        "print(type(movie_time))"
      ],
      "execution_count": 2,
      "outputs": [
        {
          "output_type": "stream",
          "text": [
            "<class 'str'>\n",
            "<class 'float'>\n",
            "<class 'int'>\n"
          ],
          "name": "stdout"
        }
      ]
    }
  ]
}